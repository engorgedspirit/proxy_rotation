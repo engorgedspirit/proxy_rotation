{
 "cells": [
  {
   "cell_type": "code",
   "execution_count": 8,
   "id": "87afa3d9",
   "metadata": {},
   "outputs": [],
   "source": [
    "from bs4 import BeautifulSoup\n",
    "import requests\n",
    "import random\n",
    "import traceback\n",
    "import csv\n",
    "import shelve\n",
    "proxies=[]"
   ]
  },
  {
   "cell_type": "code",
   "execution_count": 9,
   "id": "e8782381",
   "metadata": {},
   "outputs": [],
   "source": [
    "def get_proxies():\n",
    "    url='https://free-proxy-list.net/'\n",
    "    soup=BeautifulSoup(requests.get(url).text,'html.parser')\n",
    "    table=soup.find(\"table\",attrs={\"class\":\"table table-striped table-bordered\"})\n",
    "    for row in table.find_all(\"tr\")[1:]:\n",
    "        proxies.append(str(row.find_all(\"td\")[0].text+\":\"+row.find_all(\"td\")[1].text))\n",
    "        for i in proxies:\n",
    "            print(i)"
   ]
  },
  {
   "cell_type": "code",
   "execution_count": 53,
   "id": "eb884ef9",
   "metadata": {},
   "outputs": [],
   "source": []
  },
  {
   "cell_type": "code",
   "execution_count": 57,
   "id": "27a11b97",
   "metadata": {},
   "outputs": [],
   "source": [
    "get_proxies()\n",
    "shfile = shelve.open(\"shelf_file\")\n",
    "shfile['proxy_list']=proxies\n",
    "shfile.close()"
   ]
  },
  {
   "cell_type": "code",
   "execution_count": null,
   "id": "abda23c7",
   "metadata": {},
   "outputs": [],
   "source": []
  },
  {
   "cell_type": "code",
   "execution_count": null,
   "id": "debce393",
   "metadata": {},
   "outputs": [],
   "source": []
  }
 ],
 "metadata": {
  "kernelspec": {
   "display_name": "Python 3 (ipykernel)",
   "language": "python",
   "name": "python3"
  },
  "language_info": {
   "codemirror_mode": {
    "name": "ipython",
    "version": 3
   },
   "file_extension": ".py",
   "mimetype": "text/x-python",
   "name": "python",
   "nbconvert_exporter": "python",
   "pygments_lexer": "ipython3",
   "version": "3.9.13"
  }
 },
 "nbformat": 4,
 "nbformat_minor": 5
}
